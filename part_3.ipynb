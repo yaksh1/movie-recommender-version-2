{
 "cells": [
  {
   "cell_type": "code",
   "execution_count": 1,
   "metadata": {},
   "outputs": [],
   "source": [
    "import pandas as pd\n",
    "import numpy as np\n",
    "import requests"
   ]
  },
  {
   "cell_type": "markdown",
   "metadata": {},
   "source": [
    "### Function for fetching the movie data from wikipedia"
   ]
  },
  {
   "cell_type": "code",
   "execution_count": 2,
   "metadata": {},
   "outputs": [],
   "source": [
    "def get_df(url):\n",
    "  df1 = pd.read_html(url,header=0)[2]\n",
    "  df2 = pd.read_html(url,header=0)[3]\n",
    "  df3 = pd.read_html(url,header=0)[4]\n",
    "  df4 = pd.read_html(url,header=0)[5]\n",
    "  df = df1.append(df2.append(df3.append(df4,ignore_index = True),ignore_index = True),ignore_index = True)\n",
    "  return df"
   ]
  },
  {
   "cell_type": "markdown",
   "metadata": {},
   "source": [
    "### Function to fetch genres of all movies"
   ]
  },
  {
   "cell_type": "code",
   "execution_count": 3,
   "metadata": {},
   "outputs": [],
   "source": [
    "def get_genres(movie):\n",
    "  response  = requests.get('http://www.omdbapi.com/?t={}&apikey=d023b9b3'.format(movie))\n",
    "  data = response.json()\n",
    "  if data['Response'] == 'False':\n",
    "    np.NaN\n",
    "  else:\n",
    "    return data['Genre']"
   ]
  },
  {
   "cell_type": "markdown",
   "metadata": {},
   "source": [
    "### Function to fetch plot of all movies"
   ]
  },
  {
   "cell_type": "code",
   "execution_count": 4,
   "metadata": {},
   "outputs": [],
   "source": [
    "def get_plot(movie):\n",
    "  response  = requests.get('http://www.omdbapi.com/?t={}&apikey=d023b9b3'.format(movie))\n",
    "  data = response.json()\n",
    "  if data['Response'] == 'False':\n",
    "    np.NaN\n",
    "  else:\n",
    "    return data['Plot']"
   ]
  },
  {
   "cell_type": "markdown",
   "metadata": {},
   "source": [
    "### Function to fetch director's name"
   ]
  },
  {
   "cell_type": "code",
   "execution_count": 5,
   "metadata": {},
   "outputs": [],
   "source": [
    "def get_director_name(x):\n",
    "  if \"(director)\" in x:\n",
    "    return x.split(' (director)')[0]\n",
    "  elif \"(director/screenplay)\" in x:\n",
    "    return x.split(' (director/screenplay)')[0]\n",
    "  else:\n",
    "    return x.split(' (directors)')[0]"
   ]
  },
  {
   "cell_type": "markdown",
   "metadata": {},
   "source": [
    "### Function to fetch names of top Actors"
   ]
  },
  {
   "cell_type": "code",
   "execution_count": 6,
   "metadata": {},
   "outputs": [],
   "source": [
    "def get_actors(x):\n",
    "  return ((x.split(\"screenplay); \")[-1]).split(', ')[0:3])"
   ]
  },
  {
   "cell_type": "markdown",
   "metadata": {},
   "source": [
    "### Function to perform tasks"
   ]
  },
  {
   "cell_type": "code",
   "execution_count": 7,
   "metadata": {},
   "outputs": [],
   "source": [
    "def tasks(df):\n",
    "\n",
    "  # renaming\n",
    "  df.rename(columns = {'Title':'title','Cast and crew':'cast'},inplace=True)\n",
    "  \n",
    "  # keeping columns in need\n",
    "  df = df[['title','cast','genres','plot']]\n",
    "  \n",
    "  # pretty format\n",
    "  df['title'] = df['title'].astype(str)\n",
    "  df['genres'] = df['genres'].astype(str)\n",
    "  df['plot'] = df['plot'].astype(str)\n",
    "  df['cast'] = df['cast'].astype(str)\n",
    "  \n",
    "  # get Director's name\n",
    "  df['director_name'] = df['cast'].apply(get_director_name)\n",
    "  \n",
    "  # get actors name\n",
    "  df['actors'] = df['cast'].apply(get_actors)\n",
    "  \n",
    "  # replacing ','\n",
    "  df['genres']=df['genres'].apply(lambda x:x.replace(',',' '))\n",
    "  df['plot']=df['plot'].apply(lambda x:x.replace(',',' '))\n",
    "\n",
    "  # to lowercase\n",
    "  df['title'] = df['title'].apply(lambda x:x.lower())\n",
    "  \n",
    "  # joining names\n",
    "  df['director_name'] = df['director_name'].apply(lambda x:\" \".join(x))\n",
    "  df['director_name'] = df['director_name'].apply(lambda x:x.replace(\" \",\"\"))\n",
    "  df['actors'] = df['actors'].apply(lambda x:[i.replace(\" \",\"\") for i in x])\n",
    "  \n",
    "  # converting into list\n",
    "  df['genres'] = df['genres'].apply(lambda x:x.split())\n",
    "  df['plot'] = df['plot'].apply(lambda x:x.split())\n",
    "  df['director_name'] = df['director_name'].apply(lambda x:x.split())\n",
    "  \n",
    "  # combining all\n",
    "  df['tags'] = df['actors'] + df['director_name'] + df['genres'] + df['plot']\n",
    "  \n",
    "  # tags to string\n",
    "  df['tags'] = df['tags'].apply(lambda x:\" \".join(x))\n",
    "  \n",
    "  #tags to lower\n",
    "  df['tags'] = df['tags'].apply(lambda x:x.lower())\n",
    "  \n",
    "  # finalizing\n",
    "  df = df[['tags','title']]\n",
    "  \n",
    "  return df"
   ]
  },
  {
   "cell_type": "markdown",
   "metadata": {},
   "source": [
    "## <u><b>2018 data</b></u>\n"
   ]
  },
  {
   "cell_type": "code",
   "execution_count": 27,
   "metadata": {},
   "outputs": [],
   "source": [
    "url_2018 = \"https://en.wikipedia.org/wiki/List_of_American_films_of_2018\"\n",
    "df_2018 = get_df(url_2018)"
   ]
  },
  {
   "cell_type": "code",
   "execution_count": 29,
   "metadata": {},
   "outputs": [],
   "source": [
    "df_2018['genres'] = df_2018['Title'].apply(get_genres)\n"
   ]
  },
  {
   "cell_type": "code",
   "execution_count": 30,
   "metadata": {},
   "outputs": [],
   "source": [
    "df_2018['plot'] = df_2018['Title'].apply(get_plot)\n"
   ]
  },
  {
   "cell_type": "code",
   "execution_count": 31,
   "metadata": {},
   "outputs": [
    {
     "data": {
      "text/plain": [
       "Opening                                                                          0\n",
       "Opening.1                                                                        0\n",
       "Title                                                                            0\n",
       "Production company                                                               0\n",
       "Cast and crew                                                                    0\n",
       ".mw-parser-output .tooltip-dotted{border-bottom:1px dotted;cursor:help}Ref.    199\n",
       "Ref.                                                                            75\n",
       "genres                                                                           4\n",
       "plot                                                                             4\n",
       "dtype: int64"
      ]
     },
     "execution_count": 31,
     "metadata": {},
     "output_type": "execute_result"
    }
   ],
   "source": [
    "df_2018.isna().sum()\n"
   ]
  },
  {
   "cell_type": "code",
   "execution_count": 32,
   "metadata": {},
   "outputs": [],
   "source": [
    "df_2018 = df_2018.dropna(subset=['Title'])"
   ]
  },
  {
   "cell_type": "code",
   "execution_count": null,
   "metadata": {},
   "outputs": [],
   "source": [
    "df_2018 = tasks(df_2018)\n"
   ]
  },
  {
   "cell_type": "code",
   "execution_count": 34,
   "metadata": {},
   "outputs": [
    {
     "data": {
      "text/html": [
       "<div>\n",
       "<style scoped>\n",
       "    .dataframe tbody tr th:only-of-type {\n",
       "        vertical-align: middle;\n",
       "    }\n",
       "\n",
       "    .dataframe tbody tr th {\n",
       "        vertical-align: top;\n",
       "    }\n",
       "\n",
       "    .dataframe thead th {\n",
       "        text-align: right;\n",
       "    }\n",
       "</style>\n",
       "<table border=\"1\" class=\"dataframe\">\n",
       "  <thead>\n",
       "    <tr style=\"text-align: right;\">\n",
       "      <th></th>\n",
       "      <th>tags</th>\n",
       "      <th>title</th>\n",
       "    </tr>\n",
       "  </thead>\n",
       "  <tbody>\n",
       "    <tr>\n",
       "      <th>0</th>\n",
       "      <td>linshaye angussampson leighwhannell adamrobite...</td>\n",
       "      <td>insidious: the last key</td>\n",
       "    </tr>\n",
       "    <tr>\n",
       "      <th>1</th>\n",
       "      <td>alexpettyfer jamesfreedson-jackson emilyalthau...</td>\n",
       "      <td>the strange ones</td>\n",
       "    </tr>\n",
       "    <tr>\n",
       "      <th>2</th>\n",
       "      <td>dominiccooper austinstowell gemmachan simonwes...</td>\n",
       "      <td>stratton</td>\n",
       "    </tr>\n",
       "    <tr>\n",
       "      <th>3</th>\n",
       "      <td>bryanbrown samneill warwickthornton adventure ...</td>\n",
       "      <td>sweet country</td>\n",
       "    </tr>\n",
       "    <tr>\n",
       "      <th>4</th>\n",
       "      <td>liamneeson verafarmiga patrickwilson jaumecoll...</td>\n",
       "      <td>the commuter</td>\n",
       "    </tr>\n",
       "    <tr>\n",
       "      <th>...</th>\n",
       "      <td>...</td>\n",
       "      <td>...</td>\n",
       "    </tr>\n",
       "    <tr>\n",
       "      <th>268</th>\n",
       "      <td>willferrell johnc.reilly rebeccahall etancohen...</td>\n",
       "      <td>holmes &amp; watson</td>\n",
       "    </tr>\n",
       "    <tr>\n",
       "      <th>269</th>\n",
       "      <td>christianbale amyadams stevecarell adammckay b...</td>\n",
       "      <td>vice</td>\n",
       "    </tr>\n",
       "    <tr>\n",
       "      <th>270</th>\n",
       "      <td>felicityjones armiehammer justintheroux mimile...</td>\n",
       "      <td>on the basis of sex</td>\n",
       "    </tr>\n",
       "    <tr>\n",
       "      <th>271</th>\n",
       "      <td>nicolekidman sebastianstan tobykebbell karynku...</td>\n",
       "      <td>destroyer</td>\n",
       "    </tr>\n",
       "    <tr>\n",
       "      <th>272</th>\n",
       "      <td>fionnwhitehead willpoulter asimchaudhry davids...</td>\n",
       "      <td>black mirror: bandersnatch</td>\n",
       "    </tr>\n",
       "  </tbody>\n",
       "</table>\n",
       "<p>273 rows × 2 columns</p>\n",
       "</div>"
      ],
      "text/plain": [
       "                                                  tags  \\\n",
       "0    linshaye angussampson leighwhannell adamrobite...   \n",
       "1    alexpettyfer jamesfreedson-jackson emilyalthau...   \n",
       "2    dominiccooper austinstowell gemmachan simonwes...   \n",
       "3    bryanbrown samneill warwickthornton adventure ...   \n",
       "4    liamneeson verafarmiga patrickwilson jaumecoll...   \n",
       "..                                                 ...   \n",
       "268  willferrell johnc.reilly rebeccahall etancohen...   \n",
       "269  christianbale amyadams stevecarell adammckay b...   \n",
       "270  felicityjones armiehammer justintheroux mimile...   \n",
       "271  nicolekidman sebastianstan tobykebbell karynku...   \n",
       "272  fionnwhitehead willpoulter asimchaudhry davids...   \n",
       "\n",
       "                          title  \n",
       "0       insidious: the last key  \n",
       "1              the strange ones  \n",
       "2                      stratton  \n",
       "3                 sweet country  \n",
       "4                  the commuter  \n",
       "..                          ...  \n",
       "268             holmes & watson  \n",
       "269                        vice  \n",
       "270         on the basis of sex  \n",
       "271                   destroyer  \n",
       "272  black mirror: bandersnatch  \n",
       "\n",
       "[273 rows x 2 columns]"
      ]
     },
     "execution_count": 34,
     "metadata": {},
     "output_type": "execute_result"
    }
   ],
   "source": [
    "df_2018"
   ]
  },
  {
   "cell_type": "code",
   "execution_count": 35,
   "metadata": {},
   "outputs": [],
   "source": [
    "df_2018.to_csv('csv-files\\\\df_2018.csv',index=False)"
   ]
  },
  {
   "cell_type": "markdown",
   "metadata": {},
   "source": [
    "## <u><b>2019 data</b></u>\n"
   ]
  },
  {
   "cell_type": "code",
   "execution_count": 77,
   "metadata": {},
   "outputs": [],
   "source": [
    "url_2019 = \"https://en.wikipedia.org/wiki/List_of_American_films_of_2019\"\n",
    "df_2019 = get_df(url_2019)\n"
   ]
  },
  {
   "cell_type": "code",
   "execution_count": 78,
   "metadata": {},
   "outputs": [],
   "source": [
    "df_2019['genres'] = df_2019['Title'].apply(get_genres)\n"
   ]
  },
  {
   "cell_type": "code",
   "execution_count": 79,
   "metadata": {},
   "outputs": [],
   "source": [
    "df_2019['plot'] = df_2019['Title'].apply(get_plot)\n"
   ]
  },
  {
   "cell_type": "code",
   "execution_count": 80,
   "metadata": {},
   "outputs": [
    {
     "data": {
      "text/plain": [
       "Opening                0\n",
       "Opening.1              0\n",
       "Title                  0\n",
       "Production company     0\n",
       "Cast and crew          0\n",
       "Ref.                  10\n",
       "genres                 1\n",
       "plot                   1\n",
       "dtype: int64"
      ]
     },
     "execution_count": 80,
     "metadata": {},
     "output_type": "execute_result"
    }
   ],
   "source": [
    "df_2019.isna().sum()\n"
   ]
  },
  {
   "cell_type": "code",
   "execution_count": 81,
   "metadata": {},
   "outputs": [],
   "source": [
    "df_2019 = df_2019.dropna(subset=['Title'])\n"
   ]
  },
  {
   "cell_type": "code",
   "execution_count": null,
   "metadata": {},
   "outputs": [],
   "source": [
    "df_2019 = tasks(df_2019)"
   ]
  },
  {
   "cell_type": "code",
   "execution_count": 84,
   "metadata": {},
   "outputs": [],
   "source": [
    "df_2019.to_csv('csv-files\\\\df_2019.csv',index=False)"
   ]
  },
  {
   "cell_type": "markdown",
   "metadata": {},
   "source": [
    "## <u><b>2020 data</b></u>\n"
   ]
  },
  {
   "cell_type": "code",
   "execution_count": 40,
   "metadata": {},
   "outputs": [],
   "source": [
    "url_2020 = \"https://en.wikipedia.org/wiki/List_of_American_films_of_2020\"\n",
    "df_2020 = get_df(url_2020)"
   ]
  },
  {
   "cell_type": "markdown",
   "metadata": {},
   "source": [
    "### Fetching genres of all movies\n"
   ]
  },
  {
   "cell_type": "code",
   "execution_count": 44,
   "metadata": {},
   "outputs": [],
   "source": [
    "df_2020['genres'] = df_2020['Title'].apply(get_genres)\n"
   ]
  },
  {
   "cell_type": "markdown",
   "metadata": {},
   "source": [
    "### Fetching plot of all movies\n"
   ]
  },
  {
   "cell_type": "code",
   "execution_count": 45,
   "metadata": {},
   "outputs": [],
   "source": [
    "df_2020['plot'] = df_2020['Title'].apply(get_plot)\n"
   ]
  },
  {
   "cell_type": "markdown",
   "metadata": {},
   "source": [
    "### Checking of null values"
   ]
  },
  {
   "cell_type": "code",
   "execution_count": 46,
   "metadata": {},
   "outputs": [
    {
     "data": {
      "text/plain": [
       "Opening                                                                          0\n",
       "Opening.1                                                                        0\n",
       "Title                                                                            0\n",
       "Production company                                                               0\n",
       "Cast and crew                                                                    0\n",
       ".mw-parser-output .tooltip-dotted{border-bottom:1px dotted;cursor:help}Ref.    219\n",
       "Ref.                                                                            84\n",
       "genres                                                                           4\n",
       "plot                                                                             4\n",
       "dtype: int64"
      ]
     },
     "execution_count": 46,
     "metadata": {},
     "output_type": "execute_result"
    }
   ],
   "source": [
    "df_2020.isna().sum()"
   ]
  },
  {
   "cell_type": "markdown",
   "metadata": {},
   "source": [
    "### Dropping null values"
   ]
  },
  {
   "cell_type": "code",
   "execution_count": 47,
   "metadata": {},
   "outputs": [],
   "source": [
    "df_2020 = df_2020.dropna(subset=['Title'])\n"
   ]
  },
  {
   "cell_type": "markdown",
   "metadata": {},
   "source": [
    "### Other tasks"
   ]
  },
  {
   "cell_type": "code",
   "execution_count": null,
   "metadata": {},
   "outputs": [],
   "source": [
    "df_2020 = tasks(df_2020)"
   ]
  },
  {
   "cell_type": "code",
   "execution_count": 51,
   "metadata": {},
   "outputs": [],
   "source": [
    "df_2020.to_csv('csv-files\\\\df_2020.csv',index=False)"
   ]
  },
  {
   "cell_type": "markdown",
   "metadata": {},
   "source": [
    "## <u><b>2021 data</b></u>\n"
   ]
  },
  {
   "cell_type": "code",
   "execution_count": 8,
   "metadata": {},
   "outputs": [],
   "source": [
    "url_2021 = \"https://en.wikipedia.org/wiki/List_of_American_films_of_2021\"\n",
    "df_2021 = get_df(url_2021)"
   ]
  },
  {
   "cell_type": "markdown",
   "metadata": {},
   "source": [
    "### Fetching genres of all movies"
   ]
  },
  {
   "cell_type": "code",
   "execution_count": 9,
   "metadata": {},
   "outputs": [],
   "source": [
    "df_2021['genres'] = df_2021['Title'].apply(get_genres)\n"
   ]
  },
  {
   "cell_type": "markdown",
   "metadata": {},
   "source": [
    "### Fetching plot of all movies"
   ]
  },
  {
   "cell_type": "code",
   "execution_count": 10,
   "metadata": {},
   "outputs": [],
   "source": [
    "df_2021['plot'] = df_2021['Title'].apply(get_plot)"
   ]
  },
  {
   "cell_type": "markdown",
   "metadata": {},
   "source": [
    "### Other tasks"
   ]
  },
  {
   "cell_type": "code",
   "execution_count": null,
   "metadata": {},
   "outputs": [],
   "source": [
    "df_2021 = tasks(df_2021)"
   ]
  },
  {
   "cell_type": "code",
   "execution_count": 12,
   "metadata": {},
   "outputs": [],
   "source": [
    "df_2021.to_csv('csv-files/df_2021.csv',index=False)"
   ]
  },
  {
   "cell_type": "markdown",
   "metadata": {},
   "source": [
    "## <u><b>2022 data</b></u>\n"
   ]
  },
  {
   "cell_type": "code",
   "execution_count": 67,
   "metadata": {},
   "outputs": [],
   "source": [
    "url_2022 = \"https://en.wikipedia.org/wiki/List_of_American_films_of_2022\""
   ]
  },
  {
   "cell_type": "code",
   "execution_count": 68,
   "metadata": {},
   "outputs": [],
   "source": [
    "def get_df_2022(url):\n",
    "  df1 = pd.read_html(url,header=0)[3]\n",
    "  df2 = pd.read_html(url,header=0)[4]\n",
    "  df3 = pd.read_html(url,header=0)[5]\n",
    "  df4 = pd.read_html(url,header=0)[6]\n",
    "  df = df1.append(df2.append(df3.append(df4,ignore_index = True),ignore_index = True),ignore_index = True)\n",
    "  return df"
   ]
  },
  {
   "cell_type": "code",
   "execution_count": 69,
   "metadata": {},
   "outputs": [],
   "source": [
    "df_2022 = get_df_2022(url_2022)\n"
   ]
  },
  {
   "cell_type": "markdown",
   "metadata": {},
   "source": [
    "### Checking for null values"
   ]
  },
  {
   "cell_type": "code",
   "execution_count": 70,
   "metadata": {},
   "outputs": [
    {
     "data": {
      "text/plain": [
       "Opening                                                                          0\n",
       "Opening.1                                                                        4\n",
       "Title                                                                            4\n",
       "Production company                                                               4\n",
       "Cast and crew                                                                    4\n",
       ".mw-parser-output .tooltip-dotted{border-bottom:1px dotted;cursor:help}Ref.    262\n",
       "Ref.                                                                            83\n",
       "dtype: int64"
      ]
     },
     "execution_count": 70,
     "metadata": {},
     "output_type": "execute_result"
    }
   ],
   "source": [
    "df_2022.isna().sum()"
   ]
  },
  {
   "cell_type": "markdown",
   "metadata": {},
   "source": [
    "### Droping null values"
   ]
  },
  {
   "cell_type": "code",
   "execution_count": 71,
   "metadata": {},
   "outputs": [],
   "source": [
    "df_2022 = df_2022.dropna(subset=['Title'])"
   ]
  },
  {
   "cell_type": "markdown",
   "metadata": {},
   "source": [
    "### Fetching genres of all movies"
   ]
  },
  {
   "cell_type": "code",
   "execution_count": 72,
   "metadata": {},
   "outputs": [],
   "source": [
    "df_2022['genres'] = df_2022['Title'].apply(get_genres)"
   ]
  },
  {
   "cell_type": "markdown",
   "metadata": {},
   "source": [
    "### Fetching plot of all movies\n"
   ]
  },
  {
   "cell_type": "code",
   "execution_count": 74,
   "metadata": {},
   "outputs": [],
   "source": [
    "df_2022['plot'] = df_2022['Title'].apply(get_plot)\n"
   ]
  },
  {
   "cell_type": "markdown",
   "metadata": {},
   "source": [
    "### Other tasks"
   ]
  },
  {
   "cell_type": "code",
   "execution_count": null,
   "metadata": {},
   "outputs": [],
   "source": [
    "df_2022 = tasks(df_2022)"
   ]
  },
  {
   "cell_type": "code",
   "execution_count": 76,
   "metadata": {},
   "outputs": [],
   "source": [
    "df_2022.to_csv('csv-files\\\\df_2022.csv',index=False)"
   ]
  },
  {
   "cell_type": "markdown",
   "metadata": {},
   "source": [
    "# Appending all datasets\n"
   ]
  }
 ],
 "metadata": {
  "kernelspec": {
   "display_name": "Python 3.9.10 64-bit",
   "language": "python",
   "name": "python3"
  },
  "language_info": {
   "codemirror_mode": {
    "name": "ipython",
    "version": 3
   },
   "file_extension": ".py",
   "mimetype": "text/x-python",
   "name": "python",
   "nbconvert_exporter": "python",
   "pygments_lexer": "ipython3",
   "version": "3.9.10"
  },
  "orig_nbformat": 4,
  "vscode": {
   "interpreter": {
    "hash": "81794d4967e6c3204c66dcd87b604927b115b27c00565d3d43f05ba2f3a2cb0d"
   }
  }
 },
 "nbformat": 4,
 "nbformat_minor": 2
}
